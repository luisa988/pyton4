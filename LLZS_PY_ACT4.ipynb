{
  "nbformat": 4,
  "nbformat_minor": 0,
  "metadata": {
    "colab": {
      "provenance": [],
      "authorship_tag": "ABX9TyP6PJ+0j++6/vfHxlOyqO9P",
      "include_colab_link": true
    },
    "kernelspec": {
      "name": "python3",
      "display_name": "Python 3"
    },
    "language_info": {
      "name": "python"
    }
  },
  "cells": [
    {
      "cell_type": "markdown",
      "metadata": {
        "id": "view-in-github",
        "colab_type": "text"
      },
      "source": [
        "<a href=\"https://colab.research.google.com/github/luisa988/pyton4/blob/main/LLZS_PY_ACT4.ipynb\" target=\"_parent\"><img src=\"https://colab.research.google.com/assets/colab-badge.svg\" alt=\"Open In Colab\"/></a>"
      ]
    },
    {
      "cell_type": "markdown",
      "source": [
        "Nombre: Luisa Zerega.\n",
        "\n",
        "Materia: Python.\n",
        "\n",
        "Actividad 4 try Except.\n",
        "\n",
        "Matricula: 356491\n",
        "\n",
        "Descripcion:  Programa en python   que lea 3 calificaciones calcule el promedio del alumno y desplegar:\n",
        "\n",
        "Si prom < 30 Repetir\n",
        "\n",
        "Si prom >= 30 y prom <60 extraordinario\n",
        "\n",
        "Si prom >=60 y prom <70 suficiente\n",
        "\n",
        "Si prom >=70 y prom <80 Regular\n",
        "\n",
        "Si prom >=80 y prom <90 bien\n",
        "\n",
        "Si prom >=90 y prom <98 muy bien\n",
        "\n",
        "Si prom >=98 y prom <=100 excelente\n",
        "\n",
        "Si prom >100 Error en promedio\n",
        "\n",
        "Realizar el algoritmo optimizado\n",
        "\n"
      ],
      "metadata": {
        "id": "DmoMMwtBA8-g"
      }
    },
    {
      "cell_type": "code",
      "source": [
        "try:\n",
        "    calificacion1 = float(input(\"Ingrese la primera calificación: \"))\n",
        "    calificacion2 = float(input(\"Ingrese la segunda calificación: \"))\n",
        "    calificacion3 = float(input(\"Ingrese la tercera calificación: \"))\n",
        "\n",
        "    promedio = (calificacion1 + calificacion2 + calificacion3) / 3\n",
        "\n",
        "    if promedio < 30:\n",
        "        print(\"Repetir D: \")\n",
        "    elif promedio < 60:\n",
        "        print(\"Extraordinario :( \")\n",
        "    elif promedio < 70:\n",
        "        print(\"Suficiente :/ \")\n",
        "    elif promedio < 80:\n",
        "        print(\"Regular ._. \")\n",
        "    elif promedio < 90:\n",
        "        print(\"Bien :) \")\n",
        "    elif promedio < 95 :\n",
        "        print(\"Muy bien ^u^ \")\n",
        "    elif promedio <= 100:\n",
        "        print(\"Exelente :D \")\n",
        "    else:\n",
        "        promedio > 100\n",
        "    print(\"Error en promedio ._0\")\n",
        "\n",
        "except ValueError:\n",
        "    print(\"Error: Ingrese calificaciones válidas.\")\n"
      ],
      "metadata": {
        "id": "4OToFYBrBist",
        "colab": {
          "base_uri": "https://localhost:8080/"
        },
        "outputId": "0a6b70e1-3704-4752-f8c6-4185383b731c"
      },
      "execution_count": 8,
      "outputs": [
        {
          "output_type": "stream",
          "name": "stdout",
          "text": [
            "Ingrese la primera calificación: 60\n",
            "Ingrese la segunda calificación: 56\n",
            "Ingrese la tercera calificación: 100\n",
            "Regular ._. \n",
            "Error en promedio ._0\n"
          ]
        }
      ]
    },
    {
      "cell_type": "markdown",
      "source": [
        "Descripcion: Programa en Python que sirva para calcular el salario semanal de un trabajador donde se obtiene como dato de entrada las horas semanales trabajadas, el salario por hora.\n",
        "\n",
        "El programa deberá calcular el salario normal, salario extra y salario total, considerando lo siguiente:\n",
        "\n",
        "Jornada Normal de 40 horas.\n",
        "El salario normal se considera las horas trabajadas menores o igual a la jornada normal\n",
        "Salario extra se considera las horas trabajadas mayores a la jornada normal y se pagan dobles las primeras 9 y triples a partir de la décima hora extra\n",
        "\n",
        "\n",
        "Nota: Desplegar todos los datos (Salario x hora, Horas Trabajadas, Salario normal, Salario extra y Salario Total)\n",
        "\n",
        "\n",
        "\n"
      ],
      "metadata": {
        "id": "Hgbq9jPbDhKG"
      }
    },
    {
      "cell_type": "code",
      "source": [
        "try:\n",
        "    horas_trabajadas = float(input(\"Ingrese las horas trabajadas a la semana: \"))\n",
        "    salario_por_hora = float(input(\"Ingrese el salario por hora: \"))\n",
        "\n",
        "    jornada_normal = 40\n",
        "    salario_normal = 0\n",
        "    salario_extra = 0\n",
        "\n",
        "    if horas_trabajadas <= jornada_normal:\n",
        "        salario_normal = horas_trabajadas * salario_por_hora\n",
        "    else:\n",
        "        horas_extra = horas_trabajadas - jornada_normal\n",
        "        if horas_extra <= 9:\n",
        "            salario_normal = jornada_normal * salario_por_hora\n",
        "            salario_extra = horas_extra * (salario_por_hora * 2)\n",
        "        else:\n",
        "            salario_normal = jornada_normal * salario_por_hora\n",
        "            salario_extra = 9 * (salario_por_hora * 2) + (horas_extra - 9) * (salario_por_hora * 3)\n",
        "\n",
        "    salario_total = salario_normal + salario_extra\n",
        "\n",
        "    print(\"Salario por hora: \", salario_por_hora)\n",
        "    print(\"Horas trabajadas: \", horas_trabajadas)\n",
        "    print(\"Salario normal: \", salario_normal)\n",
        "    print(\"Salario extra: \", salario_extra)\n",
        "    print(\"Salario total: \", salario_total)\n",
        "\n",
        "except ValueError:\n",
        "    print(\"Error: Ingrese valores numéricos válidos.\")\n"
      ],
      "metadata": {
        "colab": {
          "base_uri": "https://localhost:8080/"
        },
        "id": "tsLacy7XD6ww",
        "outputId": "cc706987-6318-4af5-8899-cae3ac8c873b"
      },
      "execution_count": 9,
      "outputs": [
        {
          "output_type": "stream",
          "name": "stdout",
          "text": [
            "Ingrese las horas trabajadas a la semana: 50\n",
            "Ingrese el salario por hora: 100\n",
            "Salario por hora:  100.0\n",
            "Horas trabajadas:  50.0\n",
            "Salario normal:  4000.0\n",
            "Salario extra:  2100.0\n",
            "Salario total:  6100.0\n"
          ]
        }
      ]
    },
    {
      "cell_type": "markdown",
      "source": [
        "Descripcion:  Programa en Python que sirva para calcular el Total a pagar por consumo de agua, donde el dato de entrada son los M3 de agua consumidos, Tomar en cuenta que se cobra escalonada de la Siguiente manera:\n",
        "\n",
        "Rango1: 0 al 4 M3 $50 x facturación sin importar cuánto consumió en este rango\n",
        "\n",
        "Rango2: 5 a 15 M3 $8.00 x M3\n",
        "\n",
        "Rango3: 16 a 50 M3 $10.00 x M3\n",
        "\n",
        "Rango4: 51 M3 en adelante $11.00 x M3\n",
        "\n",
        "Nota: Desplegar SubTotal, Iva(16%), y Total a pagar.\n",
        "\n"
      ],
      "metadata": {
        "id": "QTkZG0-zEJuc"
      }
    },
    {
      "cell_type": "code",
      "source": [
        "try:\n",
        "    m3_consumidos = float(input(\"Ingrese los M3 de agua consumidos: \"))\n",
        "\n",
        "    subtotal = 0\n",
        "    iva = 0\n",
        "    total = 0\n",
        "\n",
        "    if m3_consumidos <= 4:\n",
        "        subtotal = 50\n",
        "    elif m3_consumidos <= 15:\n",
        "        subtotal = 50 + (m3_consumidos - 4) * 8\n",
        "    elif m3_consumidos <= 50:\n",
        "        subtotal = 50 + 11 * 15 + (m3_consumidos - 15) * 10\n",
        "    else:\n",
        "        subtotal = 50 + 11 * 15 + 35 * 10 + (m3_consumidos - 50) * 11\n",
        "\n",
        "    iva = subtotal * 0.16\n",
        "    total = subtotal + iva\n",
        "\n",
        "    print(\"SubTotal: \", subtotal)\n",
        "    print(\"IVA: \", iva)\n",
        "    print(\"Total a pagar: \", total)\n",
        "\n",
        "except ValueError:\n",
        "    print(\"Error: Ingrese un valor numérico válido para los M3 de agua consumidos.\")\n"
      ],
      "metadata": {
        "colab": {
          "base_uri": "https://localhost:8080/"
        },
        "id": "2lWrOWPcEQVm",
        "outputId": "6d44514c-13d6-479e-8a1e-6dbab3df2023"
      },
      "execution_count": 10,
      "outputs": [
        {
          "output_type": "stream",
          "name": "stdout",
          "text": [
            "Ingrese los M3 de agua consumidos: 500\n",
            "SubTotal:  5515.0\n",
            "IVA:  882.4\n",
            "Total a pagar:  6397.4\n"
          ]
        }
      ]
    },
    {
      "cell_type": "markdown",
      "source": [
        "Descripcion:  En la materia de Metodología de la programación se aplican 5 exámenes, calcular el promedio final de la materia donde la calificación menor de los exámenes se anula y el promedio se calcula en base a 4 exámenes.\n",
        "\n",
        "Desplegar el promedio final. y cual es la mas baja que se elimino."
      ],
      "metadata": {
        "id": "2ANZM093ElBz"
      }
    },
    {
      "cell_type": "code",
      "source": [
        "try:\n",
        "    calificaciones = []\n",
        "\n",
        "    for i in range(5):\n",
        "        calificaciones.append(float(input(\"Ingrese la calificación del examen {}: \".format(i+1))))\n",
        "\n",
        "    calificaciones.remove(min(calificaciones))\n",
        "\n",
        "    promedio = sum(calificaciones) / len(calificaciones)\n",
        "    calificacion_minima = min(calificaciones)\n",
        "\n",
        "    print(\"Promedio final: \", promedio)\n",
        "    print(\"Calificación más baja eliminada: \", calificacion_minima)\n",
        "\n",
        "except ValueError:\n",
        "    print(\"Error: Ingrese un valor numérico válido para las calificaciones de los exámenes.\")\n"
      ],
      "metadata": {
        "colab": {
          "base_uri": "https://localhost:8080/"
        },
        "id": "ms_S33qDEulA",
        "outputId": "d25da43d-9dae-4ed3-ca0d-1117c1bfa125"
      },
      "execution_count": 11,
      "outputs": [
        {
          "output_type": "stream",
          "name": "stdout",
          "text": [
            "Ingrese la calificación del examen 1: 89\n",
            "Ingrese la calificación del examen 2: 100\n",
            "Ingrese la calificación del examen 3: 98\n",
            "Ingrese la calificación del examen 4: 100\n",
            "Ingrese la calificación del examen 5: 100\n",
            "Promedio final:  99.5\n",
            "Calificación más baja eliminada:  98.0\n"
          ]
        }
      ]
    },
    {
      "cell_type": "markdown",
      "source": [
        "Descripcion: Programa en Python que sirva para el juego del CHINCHAMPU (Piedra, Papel, Tijera) para 1 jugador y la computadora\n",
        "\n"
      ],
      "metadata": {
        "id": "PnhU1LVQFN-g"
      }
    },
    {
      "cell_type": "code",
      "source": [
        "import random\n",
        "\n",
        "def obtener_jugada():\n",
        "    jugada = input(\"Ingrese su jugada (Piedra, Papel o Tijera): \").lower()\n",
        "    while jugada not in [\"piedra\", \"papel\", \"tijera\"]:\n",
        "        jugada = input(\"Jugada inválida. Ingrese nuevamente (Piedra, Papel o Tijera): \").lower()\n",
        "    return jugada\n",
        "\n",
        "def obtener_jugada_computadora():\n",
        "    opciones = [\"piedra\", \"papel\", \"tijera\"]\n",
        "    return random.choice(opciones)\n",
        "\n",
        "def determinar_ganador(jugador, computadora):\n",
        "    if jugador == computadora:\n",
        "        return \"Empate\"\n",
        "    elif (jugador == \"piedra\" and computadora == \"tijera\") or (jugador == \"papel\" and computadora == \"piedra\") or (jugador == \"tijera\" and computadora == \"papel\"):\n",
        "        return \"¡Ganaste!\"\n",
        "    else:\n",
        "        return \"La computadora ganó.\"\n",
        "\n",
        "try:\n",
        "    print(\"¡Bienvenido al juego CHINCHAMPU (Piedra, Papel, Tijera)!\")\n",
        "    print(\"Ingrese su jugada y vea si puede ganar a la computadora.\")\n",
        "\n",
        "    jugador = obtener_jugada()\n",
        "    computadora = obtener_jugada_computadora()\n",
        "\n",
        "    print(\"Usted eligió:\", jugador)\n",
        "    print(\"La computadora eligió:\", computadora)\n",
        "\n",
        "    resultado = determinar_ganador(jugador, computadora)\n",
        "    print(resultado)\n",
        "\n",
        "except ValueError:\n",
        "    print(\"Error: Ingrese una jugada válida (Piedra, Papel o Tijera).\")\n",
        "\n"
      ],
      "metadata": {
        "colab": {
          "base_uri": "https://localhost:8080/"
        },
        "id": "-utOOtxuFmeg",
        "outputId": "3e3851bb-1dc5-473a-a9eb-6f3579ae133e"
      },
      "execution_count": 12,
      "outputs": [
        {
          "output_type": "stream",
          "name": "stdout",
          "text": [
            "¡Bienvenido al juego CHINCHAMPU (Piedra, Papel, Tijera)!\n",
            "Ingrese su jugada y vea si puede ganar a la computadora.\n",
            "Ingrese su jugada (Piedra, Papel o Tijera): papel\n",
            "Usted eligió: papel\n",
            "La computadora eligió: tijera\n",
            "La computadora ganó.\n"
          ]
        }
      ]
    },
    {
      "cell_type": "markdown",
      "source": [
        "Descripcion: Programa en Python que lea 4 números enteros desplegar cuales el menor, cual es mayor\n",
        "\n"
      ],
      "metadata": {
        "id": "-VGQ2BuqFuuY"
      }
    },
    {
      "cell_type": "code",
      "source": [
        "try:\n",
        "    numeros = []\n",
        "\n",
        "    for i in range(4):\n",
        "        numero = int(input(\"Ingrese el número {}: \".format(i+1)))\n",
        "        numeros.append(numero)\n",
        "\n",
        "    numero_menor = min(numeros)\n",
        "    numero_mayor = max(numeros)\n",
        "\n",
        "    print(\"El número menor es:\", numero_menor)\n",
        "    print(\"El número mayor es:\", numero_mayor)\n",
        "\n",
        "except ValueError:\n",
        "    print(\"Error: Ingrese solo números enteros.\")"
      ],
      "metadata": {
        "colab": {
          "base_uri": "https://localhost:8080/"
        },
        "id": "GwPWn0MNGCft",
        "outputId": "a7da0911-3e99-42a5-b6b5-18f8e04d77c6"
      },
      "execution_count": 13,
      "outputs": [
        {
          "output_type": "stream",
          "name": "stdout",
          "text": [
            "Ingrese el número 1: 90\n",
            "Ingrese el número 2: 45\n",
            "Ingrese el número 3: 60\n",
            "Ingrese el número 4: 26\n",
            "El número menor es: 26\n",
            "El número mayor es: 90\n"
          ]
        }
      ]
    },
    {
      "cell_type": "markdown",
      "source": [
        "Descripcion: Programa en Python que sirva para calcular el área de un triangulo, los datos de entrada deben ser forzosamente de tipo real"
      ],
      "metadata": {
        "id": "u_F-LCN8GPWP"
      }
    },
    {
      "cell_type": "code",
      "source": [
        "try:\n",
        "    base = float(input(\"Ingrese la base del triángulo: \"))\n",
        "    altura = float(input(\"Ingrese la altura del triángulo: \"))\n",
        "\n",
        "    area = (base * altura) / 2\n",
        "\n",
        "    print(\"El área del triángulo es:\", area)\n",
        "\n",
        "except ValueError:\n",
        "    print(\"Error: Ingrese solo números reales.\")\n",
        "\n"
      ],
      "metadata": {
        "colab": {
          "base_uri": "https://localhost:8080/"
        },
        "id": "XmXgpu0xGk99",
        "outputId": "57a4ffab-b0cf-4914-b26f-f2dea089e544"
      },
      "execution_count": 14,
      "outputs": [
        {
          "output_type": "stream",
          "name": "stdout",
          "text": [
            "Ingrese la base del triángulo: 45\n",
            "Ingrese la altura del triángulo: 67\n",
            "El área del triángulo es: 1507.5\n"
          ]
        }
      ]
    },
    {
      "cell_type": "markdown",
      "source": [
        "Descripcion: Programa en Python que sirva para calcular el área de un circulo"
      ],
      "metadata": {
        "id": "q1CWYXkiGtxu"
      }
    },
    {
      "cell_type": "code",
      "source": [
        "import math\n",
        "\n",
        "try:\n",
        "    radio = float(input(\"Ingrese el radio del círculo: \"))\n",
        "    area = math.pi * (radio ** 2)\n",
        "\n",
        "    print(\"El área del círculo es:\", area)\n",
        "\n",
        "except ValueError:\n",
        "    print(\"Error: Ingrese solo números reales.\")"
      ],
      "metadata": {
        "colab": {
          "base_uri": "https://localhost:8080/"
        },
        "id": "DtE7YDTcG1FH",
        "outputId": "1b72a8e6-e8d6-4f4e-b21d-789d9f87b859"
      },
      "execution_count": 15,
      "outputs": [
        {
          "output_type": "stream",
          "name": "stdout",
          "text": [
            "Ingrese el radio del círculo: 30\n",
            "El área del círculo es: 2827.4333882308138\n"
          ]
        }
      ]
    }
  ]
}